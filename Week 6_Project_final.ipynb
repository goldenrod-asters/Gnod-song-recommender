{
 "cells": [
  {
   "cell_type": "code",
   "execution_count": 1,
   "id": "51c952b0",
   "metadata": {},
   "outputs": [],
   "source": [
    "from bs4 import BeautifulSoup\n",
    "import requests\n",
    "import pandas as pd"
   ]
  },
  {
   "cell_type": "code",
   "execution_count": 2,
   "id": "c9b29751",
   "metadata": {},
   "outputs": [],
   "source": [
    "import spotipy\n",
    "import json\n",
    "from spotipy.oauth2 import SpotifyClientCredentials\n",
    "import config\n",
    "from IPython.display import IFrame\n",
    "from IPython.display import display"
   ]
  },
  {
   "cell_type": "code",
   "execution_count": 3,
   "id": "693b1dc1",
   "metadata": {},
   "outputs": [],
   "source": [
    "import numpy as np\n",
    "import pickle"
   ]
  },
  {
   "cell_type": "code",
   "execution_count": null,
   "id": "ae4e4472",
   "metadata": {},
   "outputs": [],
   "source": [
    "# Refer to \"Week 6_Project_model-scaler-csv\" for original modelling and dataframe creation"
   ]
  },
  {
   "cell_type": "code",
   "execution_count": 4,
   "id": "569ef023",
   "metadata": {},
   "outputs": [],
   "source": [
    "def load(filename = \"filename.pickle\"): \n",
    "    try: \n",
    "        with open(filename, \"rb\") as f: \n",
    "            return pickle.load(f) \n",
    "        \n",
    "    except FileNotFoundError: \n",
    "        print(\"File not found!\") "
   ]
  },
  {
   "cell_type": "code",
   "execution_count": 5,
   "id": "d3ef9035",
   "metadata": {},
   "outputs": [],
   "source": [
    "scaler = load(\"spotify_scaler.pickle\")\n",
    "model = load(\"spotify_24.pickle\")"
   ]
  },
  {
   "cell_type": "code",
   "execution_count": 6,
   "id": "9a7e6596",
   "metadata": {},
   "outputs": [],
   "source": [
    "sp = spotipy.Spotify(auth_manager=SpotifyClientCredentials(client_id= config.client_id,\n",
    "                                                           client_secret= config.client_secret))"
   ]
  },
  {
   "cell_type": "code",
   "execution_count": 7,
   "id": "aaa4487b",
   "metadata": {},
   "outputs": [],
   "source": [
    "url = \"https://www.billboard.com/charts/hot-100/\"\n",
    "response = requests.get(url)\n",
    "soup = BeautifulSoup(response.content)"
   ]
  },
  {
   "cell_type": "code",
   "execution_count": 8,
   "id": "7415194d",
   "metadata": {},
   "outputs": [],
   "source": [
    "def extract_billboard_100(soup):\n",
    "    \n",
    "    titles = []\n",
    "    artists = []\n",
    "\n",
    "    for title in soup.select('h3.c-title.a-no-trucate.a-font-primary-bold-s'):\n",
    "        titles.append(title.text.strip())\n",
    "\n",
    "    for artist in soup.select('span.c-label.a-no-trucate.a-font-primary-s'):\n",
    "        artists.append(artist.text.strip())\n",
    "\n",
    "    billboard_df = pd.DataFrame({\n",
    "        'Title': titles,\n",
    "        'Artist': artists\n",
    "    })\n",
    "\n",
    "    return billboard_df\n",
    "\n",
    "bb100_df = extract_billboard_100(soup)"
   ]
  },
  {
   "cell_type": "code",
   "execution_count": 9,
   "id": "2010d722",
   "metadata": {},
   "outputs": [],
   "source": [
    "af_df = pd.read_csv('af_df.csv')"
   ]
  },
  {
   "cell_type": "code",
   "execution_count": 10,
   "id": "7d7a98b0",
   "metadata": {
    "scrolled": true
   },
   "outputs": [],
   "source": [
    "X = af_df.select_dtypes(include=['number'])\n",
    "X.drop('duration_ms',axis=1,inplace=True)"
   ]
  },
  {
   "cell_type": "code",
   "execution_count": 11,
   "id": "7e90a852",
   "metadata": {},
   "outputs": [],
   "source": [
    "X_scaled = scaler.transform(X)\n",
    "X_scaled_df = pd.DataFrame(X_scaled, columns = X.columns)\n",
    "\n",
    "labels = model.labels_\n",
    "clusters = model.predict(X_scaled_df)\n",
    "pd.Series(clusters).value_counts().sort_index()\n",
    "X[\"cluster\"] = labels"
   ]
  },
  {
   "cell_type": "code",
   "execution_count": 12,
   "id": "0d7cc43f",
   "metadata": {},
   "outputs": [],
   "source": [
    "def play_user_song():\n",
    "    user_input = input('Please enter a song name (include artist name for more accuracy): \\n').strip().lower().replace(',',' ')\n",
    "   \n",
    "    song_search = sp.search(user_input, type=\"track\", limit=1, market=\"GB\")\n",
    "    track_id = song_search[\"tracks\"][\"items\"][0][\"id\"]\n",
    "    \n",
    "    print(f\"You've chosen: {song_search['tracks']['items'][0]['name']}, by {song_search['tracks']['items'][0]['artists'][0]['name']}.\")\n",
    "    \n",
    "    iframe = IFrame(src=\"https://open.spotify.com/embed/track/\" + track_id,\n",
    "                    width=\"320\",\n",
    "                    height=\"80\",\n",
    "                    frameborder=\"0\",\n",
    "                    allowtransparency=\"true\",\n",
    "                    allow=\"encrypted-media\")\n",
    "    display(iframe)\n",
    "    \n",
    "    return song_search"
   ]
  },
  {
   "cell_type": "code",
   "execution_count": 13,
   "id": "7376590e",
   "metadata": {},
   "outputs": [],
   "source": [
    "def play_next_song(song_search):\n",
    "    song_artist = song_search[\"tracks\"][\"items\"][0][\"artists\"][0][\"name\"].lower()\n",
    "    song_title = song_search[\"tracks\"][\"items\"][0][\"name\"].lower()\n",
    "  \n",
    "    # check if song artist and title is from billboard top 100 \n",
    "    bb100_match = bb100_df[(bb100_df['Title'].str.lower() == song_title) & (bb100_df['Artist'].str.lower() == song_artist)]\n",
    "    if not bb100_match.empty:\n",
    "        \n",
    "        # if yes, play next random song from bb100\n",
    "        random_bb100 = bb100_df.sample()\n",
    "        next_bb100_title = random_bb100['Title']\n",
    "        next_bb100_artist = random_bb100['Artist'].str.slice()\n",
    "        bb100_next_track = sp.search(q=\"{next_bb100_title}, {next_bb100_artist}\", type=\"track\", limit=1, market=\"GB\")\n",
    "        bb100_next_id = bb100_next_track['tracks']['items'][0]['id']\n",
    "        print(\"Your song is hot!\\n\")\n",
    "        print(f\"We can also recommend {next_bb100_title.values[0]}, by {next_bb100_artist.values[0]} from the Billboard Hot 100 list.\\n\")\n",
    "\n",
    "        iframe_bb100 = IFrame(src=\"https://open.spotify.com/embed/track/\"+bb100_next_id,\n",
    "               width=\"320\", \n",
    "               height=\"80\",\n",
    "               frameborder=\"0\",\n",
    "               allowtransparency=\"true\",\n",
    "               allow=\"encrypted-media\")\n",
    "        display(iframe_bb100)\n",
    "        \n",
    "  \n",
    "    # else pick next random song from big playlist to play\n",
    "    else:\n",
    "        # get and scale audio features of user input song to predict cluster\n",
    "        track_id = song_search[\"tracks\"][\"items\"][0][\"id\"]\n",
    "        input_af = pd.DataFrame(\n",
    "            sp.audio_features(track_id)).select_dtypes(include=['number']).drop('duration_ms',axis=1)\n",
    "        af_scaled = pd.DataFrame(scaler.transform(input_af), columns = input_af.columns)\n",
    "        af_scaled[\"cluster\"] = model.predict(af_scaled)\n",
    "        \n",
    "        # get a inner merged df with just the matching cluster of songs and their ids\n",
    "        song_cluster_df = pd.DataFrame(X)\n",
    "        song_cluster_df = song_cluster_df[song_cluster_df['cluster'] == af_scaled['cluster'].iloc[0]]\n",
    "        next_song_df = af_df.merge(\n",
    "            song_cluster_df['cluster'], left_index=True, right_index=True, how='inner')\n",
    "        \n",
    "        # choose random song from clustered df and play\n",
    "        next_song = next_song_df.sample()\n",
    "        next_song_id = str(next_song['id'].values[0])\n",
    "        next_song_details = sp.track(next_song_id)\n",
    "        next_song_artist = next_song_details['artists'][0]['name']\n",
    "        next_song_title = next_song_details['name']\n",
    "        \n",
    "        print(\"You've got great taste!\\n\")\n",
    "        print(f\"We can also recommend {next_song_title}, by {next_song_artist} from a similar genre.\\n\")\n",
    "        \n",
    "        iframe_playlist = IFrame(src=\"https://open.spotify.com/embed/track/\"+next_song_id,\n",
    "               width=\"320\", \n",
    "               height=\"80\",\n",
    "               frameborder=\"0\",\n",
    "               allowtransparency=\"true\",\n",
    "               allow=\"encrypted-media\")\n",
    "        display(iframe_playlist)"
   ]
  },
  {
   "cell_type": "code",
   "execution_count": 23,
   "id": "fc7bb5e4",
   "metadata": {},
   "outputs": [
    {
     "name": "stdout",
     "output_type": "stream",
     "text": [
      "Please enter a song name (include artist name for more accuracy): \n",
      "in the end linkin park\n",
      "You've chosen: In the End, by Linkin Park.\n"
     ]
    },
    {
     "data": {
      "text/html": [
       "\n",
       "        <iframe\n",
       "            width=\"320\"\n",
       "            height=\"80\"\n",
       "            src=\"https://open.spotify.com/embed/track/60a0Rd6pjrkxjPbaKzXjfq?frameborder=0&allowtransparency=true&allow=encrypted-media\"\n",
       "            frameborder=\"0\"\n",
       "            allowfullscreen\n",
       "            \n",
       "        ></iframe>\n",
       "        "
      ],
      "text/plain": [
       "<IPython.lib.display.IFrame at 0x11f759f90>"
      ]
     },
     "metadata": {},
     "output_type": "display_data"
    }
   ],
   "source": [
    "song_search = play_user_song()"
   ]
  },
  {
   "cell_type": "code",
   "execution_count": 24,
   "id": "23fe2f61",
   "metadata": {},
   "outputs": [
    {
     "name": "stdout",
     "output_type": "stream",
     "text": [
      "You've got great taste!\n",
      "\n",
      "We can also recommend Island In The Sun, by Weezer from a similar genre.\n",
      "\n"
     ]
    },
    {
     "data": {
      "text/html": [
       "\n",
       "        <iframe\n",
       "            width=\"320\"\n",
       "            height=\"80\"\n",
       "            src=\"https://open.spotify.com/embed/track/0AxdJGlXJjEUsNONDuT2pe?frameborder=0&allowtransparency=true&allow=encrypted-media\"\n",
       "            frameborder=\"0\"\n",
       "            allowfullscreen\n",
       "            \n",
       "        ></iframe>\n",
       "        "
      ],
      "text/plain": [
       "<IPython.lib.display.IFrame at 0x10dc486d0>"
      ]
     },
     "metadata": {},
     "output_type": "display_data"
    }
   ],
   "source": [
    "next_song = play_next_song(song_search)"
   ]
  }
 ],
 "metadata": {
  "kernelspec": {
   "display_name": "Python 3 (ipykernel)",
   "language": "python",
   "name": "python3"
  },
  "language_info": {
   "codemirror_mode": {
    "name": "ipython",
    "version": 3
   },
   "file_extension": ".py",
   "mimetype": "text/x-python",
   "name": "python",
   "nbconvert_exporter": "python",
   "pygments_lexer": "ipython3",
   "version": "3.11.5"
  }
 },
 "nbformat": 4,
 "nbformat_minor": 5
}
