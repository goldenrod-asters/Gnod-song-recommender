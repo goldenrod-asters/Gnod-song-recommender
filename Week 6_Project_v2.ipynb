{
 "cells": [
  {
   "cell_type": "code",
   "execution_count": 91,
   "id": "b9eb6c25",
   "metadata": {},
   "outputs": [
    {
     "name": "stdout",
     "output_type": "stream",
     "text": [
      "Requirement already satisfied: fuzzywuzzy in /Users/jordanchiang/anaconda3/lib/python3.11/site-packages (0.18.0)\n",
      "Note: you may need to restart the kernel to use updated packages.\n"
     ]
    }
   ],
   "source": [
    "pip install fuzzywuzzy"
   ]
  },
  {
   "cell_type": "code",
   "execution_count": 111,
   "id": "79ea8492",
   "metadata": {},
   "outputs": [],
   "source": [
    "from bs4 import BeautifulSoup\n",
    "import requests\n",
    "import pandas as pd"
   ]
  },
  {
   "cell_type": "code",
   "execution_count": 112,
   "id": "2c5e3471",
   "metadata": {},
   "outputs": [],
   "source": [
    "import spotipy\n",
    "import pandas as pd\n",
    "import json\n",
    "from spotipy.oauth2 import SpotifyClientCredentials\n",
    "import config\n",
    "import pprint\n",
    "from IPython.display import IFrame\n",
    "from IPython.display import display"
   ]
  },
  {
   "cell_type": "code",
   "execution_count": 90,
   "id": "9e35d043",
   "metadata": {},
   "outputs": [
    {
     "name": "stderr",
     "output_type": "stream",
     "text": [
      "/Users/jordanchiang/anaconda3/lib/python3.11/site-packages/fuzzywuzzy/fuzz.py:11: UserWarning: Using slow pure-python SequenceMatcher. Install python-Levenshtein to remove this warning\n",
      "  warnings.warn('Using slow pure-python SequenceMatcher. Install python-Levenshtein to remove this warning')\n"
     ]
    }
   ],
   "source": [
    "import numpy as np\n",
    "import pickle\n",
    "from sklearn.preprocessing import StandardScaler\n",
    "from sklearn.cluster import KMeans\n",
    "import matplotlib.pyplot as plt\n",
    "from sklearn.metrics import silhouette_score\n",
    "from fuzzywuzzy import process"
   ]
  },
  {
   "cell_type": "code",
   "execution_count": 82,
   "id": "093ce354",
   "metadata": {},
   "outputs": [],
   "source": [
    "def load(filename = \"filename.pickle\"): \n",
    "    try: \n",
    "        with open(filename, \"rb\") as f: \n",
    "            return pickle.load(f) \n",
    "        \n",
    "    except FileNotFoundError: \n",
    "        print(\"File not found!\") "
   ]
  },
  {
   "cell_type": "code",
   "execution_count": 115,
   "id": "806aa346",
   "metadata": {},
   "outputs": [],
   "source": [
    "model = load(\"spotify_17.pickle\")"
   ]
  },
  {
   "cell_type": "code",
   "execution_count": 4,
   "id": "5b342a0b",
   "metadata": {},
   "outputs": [],
   "source": [
    "sp = spotipy.Spotify(auth_manager=SpotifyClientCredentials(client_id= config.client_id,\n",
    "                                                           client_secret= config.client_secret))"
   ]
  },
  {
   "cell_type": "code",
   "execution_count": 5,
   "id": "878e5f8a",
   "metadata": {},
   "outputs": [],
   "source": [
    "url = \"https://www.billboard.com/charts/hot-100/\"\n",
    "response = requests.get(url)\n",
    "soup = BeautifulSoup(response.content)"
   ]
  },
  {
   "cell_type": "code",
   "execution_count": 6,
   "id": "b0d0e9f7",
   "metadata": {},
   "outputs": [],
   "source": [
    "def extract_billboard_100(soup):\n",
    "    \n",
    "    titles = []\n",
    "    artists = []\n",
    "\n",
    "    for title in soup.select('h3.c-title.a-no-trucate.a-font-primary-bold-s'):\n",
    "        titles.append(title.text.strip())\n",
    "\n",
    "    for artist in soup.select('span.c-label.a-no-trucate.a-font-primary-s'):\n",
    "        artists.append(artist.text.strip())\n",
    "\n",
    "    billboard_df = pd.DataFrame({\n",
    "        'Title': titles,\n",
    "        'Artist': artists\n",
    "    })\n",
    "\n",
    "    return billboard_df"
   ]
  },
  {
   "cell_type": "code",
   "execution_count": 7,
   "id": "b1695544",
   "metadata": {},
   "outputs": [],
   "source": [
    "def get_playlist_tracks(username, playlist_id):\n",
    "    results = sp.user_playlist_tracks(username,playlist_id,market=\"GB\")\n",
    "    tracks = results['items']\n",
    "    while results['next']:\n",
    "        results = sp.next(results)\n",
    "        tracks.extend(results['items'])\n",
    "    return tracks"
   ]
  },
  {
   "cell_type": "code",
   "execution_count": 8,
   "id": "43f80fd0",
   "metadata": {},
   "outputs": [],
   "source": [
    "frank_ocean_mix = get_playlist_tracks(\"spotify\", \"37i9dQZF1EIYHlfEDwnhiL\")\n",
    "best_indie_2016 = get_playlist_tracks(\"spotify\", \"37i9dQZF1DX0XnW5YpwS0o\")\n",
    "jordan_critical_mass = get_playlist_tracks(\"Jordan Chiang\", \"77sN6AyfT0rPWY2vtekfq4\")\n",
    "temper_trap_radio = get_playlist_tracks(\"spotify\", \"37i9dQZF1E4nafnsLnjXjb\")\n",
    "hip_hop_classics = get_playlist_tracks(\"Wolfgang Wee\", \"696fgrOcxfuSWtnLW5VOYw\")\n",
    "oldies_throwbacks = get_playlist_tracks(\"Indiemono\", \"1TNg7JCxifAjwrnQARimex\")\n",
    "cumbia_psicodelica_peruana = get_playlist_tracks(\"xagosaez\", \"1B59sc3clzJU65zovuIwdY\")\n",
    "tulum_vibes = get_playlist_tracks(\"spotify\", \"37i9dQZF1DX9pP7cC2liKw\")\n",
    "samurai_champloo = get_playlist_tracks(\"Cold Soda Music\", \"6oLxvkZALONjDIDXXk8ysd\")\n",
    "deep_tech_house = get_playlist_tracks(\"Ruben Moritz\", \"6SQVD0iCvTiUons1e2xf1J\")\n",
    "big_indie_list = get_playlist_tracks(\"Marc Krolla\", \"1taIvhOEgs2Rr2sOHyvpGc\")\n",
    "biggest_hits = get_playlist_tracks(\"groosteruk\", \"6FTC0TcQ0WCrdHQMR5Lubo\")\n",
    "best_world = get_playlist_tracks(\"Cumbancha\", \"4RtQxCJm13QnwLoF4HEoFR\")"
   ]
  },
  {
   "cell_type": "code",
   "execution_count": 9,
   "id": "7af12396",
   "metadata": {},
   "outputs": [],
   "source": [
    "all_lists = frank_ocean_mix.copy()\n",
    "all_lists.extend(best_indie_2016)\n",
    "all_lists.extend(jordan_critical_mass)\n",
    "all_lists.extend(temper_trap_radio)\n",
    "all_lists.extend(hip_hop_classics)\n",
    "all_lists.extend(oldies_throwbacks)\n",
    "all_lists.extend(cumbia_psicodelica_peruana)\n",
    "all_lists.extend(tulum_vibes)\n",
    "all_lists.extend(samurai_champloo)\n",
    "all_lists.extend(deep_tech_house)\n",
    "all_lists.extend(big_indie_list)\n",
    "all_lists.extend(biggest_hits)\n",
    "all_lists.extend(best_world)"
   ]
  },
  {
   "cell_type": "code",
   "execution_count": 114,
   "id": "e1b44d75",
   "metadata": {
    "scrolled": true
   },
   "outputs": [],
   "source": [
    "pl_ids = []\n",
    "for i in all_lists:\n",
    "    pl_ids.append(i['track']['id'])\n",
    "    \n",
    "chunk_size = 100\n",
    "pl_ids_chopped = [pl_ids[i:i+chunk_size] for i in range(0,len(pl_ids), 100)]\n",
    "\n",
    "af_list = []\n",
    "for i in pl_ids_chopped:\n",
    "    af_list.extend(sp.audio_features(i))\n",
    "af_df = pd.DataFrame(af_list)\n",
    "af_df.to_csv('af_df.csv', index=False)"
   ]
  },
  {
   "cell_type": "code",
   "execution_count": 29,
   "id": "3b49095f",
   "metadata": {},
   "outputs": [],
   "source": [
    "X = pd.DataFrame(af_list).select_dtypes(include=['number'])\n",
    "X.drop('duration_ms',axis=1,inplace=True)\n",
    "scaler = StandardScaler()\n",
    "scaler.fit(X)\n",
    "X_scaled = scaler.transform(X)\n",
    "X_scaled_df = pd.DataFrame(X_scaled, columns = X.columns)"
   ]
  },
  {
   "cell_type": "code",
   "execution_count": 30,
   "id": "7e996e90",
   "metadata": {
    "scrolled": false
   },
   "outputs": [
    {
     "name": "stderr",
     "output_type": "stream",
     "text": [
      "/Users/jordanchiang/anaconda3/lib/python3.11/site-packages/sklearn/cluster/_kmeans.py:1412: FutureWarning: The default value of `n_init` will change from 10 to 'auto' in 1.4. Set the value of `n_init` explicitly to suppress the warning\n",
      "  super()._check_params_vs_input(X, default_n_init=10)\n"
     ]
    }
   ],
   "source": [
    "kmeans = KMeans(n_clusters=18, random_state=1234)\n",
    "kmeans.fit(X_scaled_df)\n",
    "labels = kmeans.labels_"
   ]
  },
  {
   "cell_type": "code",
   "execution_count": 31,
   "id": "30fd537d",
   "metadata": {},
   "outputs": [],
   "source": [
    "clusters = kmeans.predict(X_scaled_df)\n",
    "pd.Series(clusters).value_counts().sort_index()\n",
    "X[\"cluster\"] = kmeans.labels_"
   ]
  },
  {
   "cell_type": "code",
   "execution_count": 78,
   "id": "3c8399b6",
   "metadata": {},
   "outputs": [],
   "source": [
    "def play_user_song():\n",
    "    user_input = input('Please enter a song name (include artist name for more accuracy): \\n').strip().lower().replace(',',' ')\n",
    "    \n",
    "    song_search = sp.search(user_input, type=\"track\", limit=1, market=\"GB\")\n",
    "    track_id = song_search[\"tracks\"][\"items\"][0][\"id\"]\n",
    "    \n",
    "    print(f\"You've chosen: {song_search['tracks']['items'][0]['name']}, by {song_search['tracks']['items'][0]['artists'][0]['name']}.\")\n",
    "    \n",
    "    iframe = IFrame(src=\"https://open.spotify.com/embed/track/\" + track_id,\n",
    "                    width=\"320\",\n",
    "                    height=\"80\",\n",
    "                    frameborder=\"0\",\n",
    "                    allowtransparency=\"true\",\n",
    "                    allow=\"encrypted-media\")\n",
    "    display(iframe)\n",
    "    \n",
    "    return song_search"
   ]
  },
  {
   "cell_type": "code",
   "execution_count": 74,
   "id": "09532141",
   "metadata": {},
   "outputs": [],
   "source": [
    "def play_next_song(song_search):\n",
    "    song_artist = song_search[\"tracks\"][\"items\"][0][\"artists\"][0][\"name\"].lower()\n",
    "    song_title = song_search[\"tracks\"][\"items\"][0][\"name\"].lower()\n",
    "    bb100_df = extract_billboard_100(soup)\n",
    "  \n",
    "    # check if song artist and title is from billboard top 100 \n",
    "    bb100_match = bb100_df[(bb100_df['Title'].str.lower() == song_title) & (bb100_df['Artist'].str.lower() == song_artist)]\n",
    "    if not bb100_match.empty:\n",
    "        \n",
    "        # if yes, play next random song from bb100\n",
    "        random_bb100 = bb100_df.sample()\n",
    "        next_bb100_title = random_bb100['Title']\n",
    "        next_bb100_artist = random_bb100['Artist'].str.slice()\n",
    "        bb100_next_track = sp.search(q=\"{next_bb100_title}, {next_bb100_artist}\", type=\"track\", limit=1, market=\"GB\")\n",
    "        bb100_next_id = bb100_next_track['tracks']['items'][0]['id']\n",
    "        print(\"Your song is hot!\\n\")\n",
    "        print(f\"We can also recommend {next_bb100_title.values[0]}, by {next_bb100_artist.values[0]} from the Billboard Hot 100 list.\\n\")\n",
    "\n",
    "        iframe_bb100 = IFrame(src=\"https://open.spotify.com/embed/track/\"+bb100_next_id,\n",
    "               width=\"320\", \n",
    "               height=\"80\",\n",
    "               frameborder=\"0\",\n",
    "               allowtransparency=\"true\",\n",
    "               allow=\"encrypted-media\")\n",
    "        display(iframe_bb100)\n",
    "        \n",
    "  \n",
    "    # else pick next random song from big playlist to play\n",
    "    else:\n",
    "        # get and scale audio features of user input song to predict cluster\n",
    "        track_id = song_search[\"tracks\"][\"items\"][0][\"id\"]\n",
    "        input_af = pd.DataFrame(\n",
    "            sp.audio_features(track_id)).select_dtypes(include=['number']).drop('duration_ms',axis=1)\n",
    "        af_scaled = pd.DataFrame(scaler.transform(input_af), columns = input_af.columns)\n",
    "        af_scaled[\"cluster\"] = kmeans.predict(af_scaled)\n",
    "        \n",
    "        # get a inner merged df with just the matching cluster of songs and their ids\n",
    "        song_cluster_df = pd.DataFrame(X)\n",
    "        song_cluster_df = song_cluster_df[song_cluster_df['cluster'] == af_scaled[\"cluster\"].iloc[0]]\n",
    "        next_song_df = pd.DataFrame(af_list).merge(\n",
    "            song_cluster_df['cluster'], left_index=True, right_index=True, how='inner')\n",
    "        \n",
    "        # choose random song from clustered df and play\n",
    "        next_song = next_song_df.sample()\n",
    "        next_song_id = str(next_song['id'].values[0])\n",
    "        next_song_details = sp.track(next_song_id)\n",
    "        next_song_artist = next_song_details['artists'][0]['name']\n",
    "        next_song_title = next_song_details['name']\n",
    "        \n",
    "        print(\"You've got great taste!\\n\")\n",
    "        print(f\"We can also recommend {next_song_title}, by {next_song_artist} from a similar genre.\\n\")\n",
    "        \n",
    "        iframe_playlist = IFrame(src=\"https://open.spotify.com/embed/track/\"+next_song_id,\n",
    "               width=\"320\", \n",
    "               height=\"80\",\n",
    "               frameborder=\"0\",\n",
    "               allowtransparency=\"true\",\n",
    "               allow=\"encrypted-media\")\n",
    "        display(iframe_playlist)"
   ]
  },
  {
   "cell_type": "code",
   "execution_count": 81,
   "id": "32095610",
   "metadata": {},
   "outputs": [
    {
     "name": "stdout",
     "output_type": "stream",
     "text": [
      "Please enter a song name (include artist name for more accuracy): \n",
      "balling, trevor\n",
      "You've chosen: You, by Trevor Ballinger.\n"
     ]
    },
    {
     "data": {
      "text/html": [
       "\n",
       "        <iframe\n",
       "            width=\"320\"\n",
       "            height=\"80\"\n",
       "            src=\"https://open.spotify.com/embed/track/5hVje7eUrSMdgNdPg7IThg?frameborder=0&allowtransparency=true&allow=encrypted-media\"\n",
       "            frameborder=\"0\"\n",
       "            allowfullscreen\n",
       "            \n",
       "        ></iframe>\n",
       "        "
      ],
      "text/plain": [
       "<IPython.lib.display.IFrame at 0x173824150>"
      ]
     },
     "metadata": {},
     "output_type": "display_data"
    }
   ],
   "source": [
    "song_search = play_user_song()"
   ]
  },
  {
   "cell_type": "code",
   "execution_count": 80,
   "id": "0ffe7f20",
   "metadata": {
    "scrolled": true
   },
   "outputs": [
    {
     "name": "stdout",
     "output_type": "stream",
     "text": [
      "You've got great taste!\n",
      "\n",
      "We can also recommend Back To Us, by Two Another from a similar genre.\n",
      "\n"
     ]
    },
    {
     "data": {
      "text/html": [
       "\n",
       "        <iframe\n",
       "            width=\"320\"\n",
       "            height=\"80\"\n",
       "            src=\"https://open.spotify.com/embed/track/2T0JxnaDQBSVTffFpqLYFv?frameborder=0&allowtransparency=true&allow=encrypted-media\"\n",
       "            frameborder=\"0\"\n",
       "            allowfullscreen\n",
       "            \n",
       "        ></iframe>\n",
       "        "
      ],
      "text/plain": [
       "<IPython.lib.display.IFrame at 0x173800a50>"
      ]
     },
     "metadata": {},
     "output_type": "display_data"
    }
   ],
   "source": [
    "next_song = play_next_song(song_search)"
   ]
  }
 ],
 "metadata": {
  "kernelspec": {
   "display_name": "Python 3 (ipykernel)",
   "language": "python",
   "name": "python3"
  },
  "language_info": {
   "codemirror_mode": {
    "name": "ipython",
    "version": 3
   },
   "file_extension": ".py",
   "mimetype": "text/x-python",
   "name": "python",
   "nbconvert_exporter": "python",
   "pygments_lexer": "ipython3",
   "version": "3.11.5"
  }
 },
 "nbformat": 4,
 "nbformat_minor": 5
}
